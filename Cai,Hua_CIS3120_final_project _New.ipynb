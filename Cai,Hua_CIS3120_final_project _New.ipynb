{
 "cells": [
  {
   "cell_type": "code",
   "execution_count": 1,
   "metadata": {},
   "outputs": [],
   "source": [
    "import pandas as pd\n",
    "import json\n",
    "import sodapy\n",
    "from sodapy import Socrata\n",
    "import numpy as np\n",
    "import seaborn as sns"
   ]
  },
  {
   "cell_type": "code",
   "execution_count": 2,
   "metadata": {},
   "outputs": [
    {
     "data": {
      "text/html": [
       "<div>\n",
       "<style scoped>\n",
       "    .dataframe tbody tr th:only-of-type {\n",
       "        vertical-align: middle;\n",
       "    }\n",
       "\n",
       "    .dataframe tbody tr th {\n",
       "        vertical-align: top;\n",
       "    }\n",
       "\n",
       "    .dataframe thead th {\n",
       "        text-align: right;\n",
       "    }\n",
       "</style>\n",
       "<table border=\"1\" class=\"dataframe\">\n",
       "  <thead>\n",
       "    <tr style=\"text-align: right;\">\n",
       "      <th></th>\n",
       "      <th>Borough</th>\n",
       "      <th>DOBRunDate</th>\n",
       "      <th>State</th>\n",
       "      <th>Zip</th>\n",
       "    </tr>\n",
       "  </thead>\n",
       "  <tbody>\n",
       "    <tr>\n",
       "      <th>0</th>\n",
       "      <td>MANHATTAN</td>\n",
       "      <td>2020-04-01T00:00:00.000</td>\n",
       "      <td>NY</td>\n",
       "      <td>10023</td>\n",
       "    </tr>\n",
       "    <tr>\n",
       "      <th>1</th>\n",
       "      <td>BROOKLYN</td>\n",
       "      <td>2020-04-01T00:00:00.000</td>\n",
       "      <td>NY</td>\n",
       "      <td>11215</td>\n",
       "    </tr>\n",
       "    <tr>\n",
       "      <th>2</th>\n",
       "      <td>BROOKLYN</td>\n",
       "      <td>2020-04-01T00:00:00.000</td>\n",
       "      <td>NY</td>\n",
       "      <td>11209</td>\n",
       "    </tr>\n",
       "    <tr>\n",
       "      <th>3</th>\n",
       "      <td>STATEN ISLAND</td>\n",
       "      <td>2020-04-01T00:00:00.000</td>\n",
       "      <td>NY</td>\n",
       "      <td>11101</td>\n",
       "    </tr>\n",
       "    <tr>\n",
       "      <th>4</th>\n",
       "      <td>MANHATTAN</td>\n",
       "      <td>2020-04-01T00:00:00.000</td>\n",
       "      <td>NY</td>\n",
       "      <td>10801</td>\n",
       "    </tr>\n",
       "  </tbody>\n",
       "</table>\n",
       "</div>"
      ],
      "text/plain": [
       "         Borough               DOBRunDate State    Zip\n",
       "0      MANHATTAN  2020-04-01T00:00:00.000    NY  10023\n",
       "1       BROOKLYN  2020-04-01T00:00:00.000    NY  11215\n",
       "2       BROOKLYN  2020-04-01T00:00:00.000    NY  11209\n",
       "3  STATEN ISLAND  2020-04-01T00:00:00.000    NY  11101\n",
       "4      MANHATTAN  2020-04-01T00:00:00.000    NY  10801"
      ]
     },
     "execution_count": 2,
     "metadata": {},
     "output_type": "execute_result"
    }
   ],
   "source": [
    "#import data DOB_Job_Application_Filings\n",
    "data_url='data.cityofnewyork.us'\n",
    "data_set='ic3t-wcy2'\n",
    "app_token=('pjWUHEIdlOXdcS6TyIjGaKBny')\n",
    "job= Socrata(data_url,app_token)\n",
    "job.timeout = 60\n",
    "job_result = job.get(data_set,limit= 2000000, select=\"Borough,Zip,DOBRunDate,State\",where=\"State='NY' and DOBRunDate between '2020-04-01T00:00:00.000' and '2020-05-01T00:00:00.000'\")\n",
    "df_job = pd.DataFrame.from_records(job_result)\n",
    "df_job=df_job.loc[df_job['Zip'].notnull()]\n",
    "df_job=df_job.loc[df_job['Zip'].astype(int)>= 10000] #take out non new york data by zip code\n",
    "df_job=df_job.loc[df_job['Zip'].astype(int)<= 11999]\n",
    "df_job.to_csv(\"job.csv\")\n",
    "df_job.head()\n",
    "#print(df_job.shape)"
   ]
  },
  {
   "cell_type": "code",
   "execution_count": 5,
   "metadata": {},
   "outputs": [
    {
     "data": {
      "text/html": [
       "<div>\n",
       "<style scoped>\n",
       "    .dataframe tbody tr th:only-of-type {\n",
       "        vertical-align: middle;\n",
       "    }\n",
       "\n",
       "    .dataframe tbody tr th {\n",
       "        vertical-align: top;\n",
       "    }\n",
       "\n",
       "    .dataframe thead th {\n",
       "        text-align: right;\n",
       "    }\n",
       "</style>\n",
       "<table border=\"1\" class=\"dataframe\">\n",
       "  <thead>\n",
       "    <tr style=\"text-align: right;\">\n",
       "      <th></th>\n",
       "      <th>Date_Entered</th>\n",
       "      <th>House_Street</th>\n",
       "      <th>Zip</th>\n",
       "    </tr>\n",
       "  </thead>\n",
       "  <tbody>\n",
       "    <tr>\n",
       "      <th>0</th>\n",
       "      <td>04/01/2020</td>\n",
       "      <td>HYATT STREET</td>\n",
       "      <td>10301</td>\n",
       "    </tr>\n",
       "    <tr>\n",
       "      <th>1</th>\n",
       "      <td>04/01/2020</td>\n",
       "      <td>203 STREET</td>\n",
       "      <td>11360</td>\n",
       "    </tr>\n",
       "    <tr>\n",
       "      <th>2</th>\n",
       "      <td>04/01/2020</td>\n",
       "      <td>165 STREET</td>\n",
       "      <td>11434</td>\n",
       "    </tr>\n",
       "    <tr>\n",
       "      <th>3</th>\n",
       "      <td>04/01/2020</td>\n",
       "      <td>BROOKLYN AVENUE</td>\n",
       "      <td>11210</td>\n",
       "    </tr>\n",
       "    <tr>\n",
       "      <th>4</th>\n",
       "      <td>04/01/2020</td>\n",
       "      <td>STARR STREET</td>\n",
       "      <td>11385</td>\n",
       "    </tr>\n",
       "  </tbody>\n",
       "</table>\n",
       "</div>"
      ],
      "text/plain": [
       "  Date_Entered                      House_Street        Zip\n",
       "0   04/01/2020  HYATT STREET                      10301    \n",
       "1   04/01/2020  203 STREET                        11360    \n",
       "2   04/01/2020  165 STREET                        11434    \n",
       "3   04/01/2020  BROOKLYN AVENUE                   11210    \n",
       "4   04/01/2020  STARR STREET                      11385    "
      ]
     },
     "execution_count": 5,
     "metadata": {},
     "output_type": "execute_result"
    }
   ],
   "source": [
    "#import data DOB Complaints Received\n",
    "data_url='data.cityofnewyork.us'\n",
    "data_set='eabe-havv'\n",
    "app_token=('pjWUHEIdlOXdcS6TyIjGaKBny')\n",
    "complaint= Socrata(data_url,app_token)\n",
    "complaint.timeout = 60\n",
    "complaint_result = complaint.get(data_set,limit= 2000000, select=\"Date_Entered,Zip_Code,House_Street\",where=\"Date_Entered between '04/01/2020' and '05/01/2020'\")\n",
    "df_complaint = pd.DataFrame.from_records(complaint_result)\n",
    "df_complaint = df_complaint.rename(columns={'Zip_Code':'Zip'}) #change the name to same as job data\n",
    "df_complaint=df_complaint.loc[df_complaint['Zip'].notnull()]\n",
    "df_complaint=df_complaint.loc[df_complaint['Zip']>= '10000']\n",
    "df_complaint=df_complaint.loc[df_complaint['Zip']<= '11999']\n",
    "df_complaint=df_complaint.loc[df_complaint['Date_Entered'].apply(lambda x: x[6:10]) == '2020']\n",
    "\n",
    "df_complaint.to_csv(\"complaint.csv\")\n",
    "df_complaint.head()\n",
    "#print(df_complaint.shape)\n"
   ]
  },
  {
   "cell_type": "code",
   "execution_count": 6,
   "metadata": {},
   "outputs": [
    {
     "data": {
      "text/html": [
       "<div>\n",
       "<style scoped>\n",
       "    .dataframe tbody tr th:only-of-type {\n",
       "        vertical-align: middle;\n",
       "    }\n",
       "\n",
       "    .dataframe tbody tr th {\n",
       "        vertical-align: top;\n",
       "    }\n",
       "\n",
       "    .dataframe thead th {\n",
       "        text-align: right;\n",
       "    }\n",
       "</style>\n",
       "<table border=\"1\" class=\"dataframe\">\n",
       "  <thead>\n",
       "    <tr style=\"text-align: right;\">\n",
       "      <th></th>\n",
       "      <th>DOBRunDate</th>\n",
       "      <th>Zip</th>\n",
       "      <th>count_job</th>\n",
       "      <th>Date</th>\n",
       "    </tr>\n",
       "  </thead>\n",
       "  <tbody>\n",
       "    <tr>\n",
       "      <th>0</th>\n",
       "      <td>2020-04-01T00:00:00.000</td>\n",
       "      <td>10001</td>\n",
       "      <td>4</td>\n",
       "      <td>2020-04-01</td>\n",
       "    </tr>\n",
       "    <tr>\n",
       "      <th>1</th>\n",
       "      <td>2020-04-01T00:00:00.000</td>\n",
       "      <td>10003</td>\n",
       "      <td>3</td>\n",
       "      <td>2020-04-01</td>\n",
       "    </tr>\n",
       "    <tr>\n",
       "      <th>2</th>\n",
       "      <td>2020-04-01T00:00:00.000</td>\n",
       "      <td>10004</td>\n",
       "      <td>3</td>\n",
       "      <td>2020-04-01</td>\n",
       "    </tr>\n",
       "    <tr>\n",
       "      <th>3</th>\n",
       "      <td>2020-04-01T00:00:00.000</td>\n",
       "      <td>10005</td>\n",
       "      <td>1</td>\n",
       "      <td>2020-04-01</td>\n",
       "    </tr>\n",
       "    <tr>\n",
       "      <th>4</th>\n",
       "      <td>2020-04-01T00:00:00.000</td>\n",
       "      <td>10007</td>\n",
       "      <td>1</td>\n",
       "      <td>2020-04-01</td>\n",
       "    </tr>\n",
       "  </tbody>\n",
       "</table>\n",
       "</div>"
      ],
      "text/plain": [
       "                DOBRunDate    Zip  count_job        Date\n",
       "0  2020-04-01T00:00:00.000  10001          4  2020-04-01\n",
       "1  2020-04-01T00:00:00.000  10003          3  2020-04-01\n",
       "2  2020-04-01T00:00:00.000  10004          3  2020-04-01\n",
       "3  2020-04-01T00:00:00.000  10005          1  2020-04-01\n",
       "4  2020-04-01T00:00:00.000  10007          1  2020-04-01"
      ]
     },
     "execution_count": 6,
     "metadata": {},
     "output_type": "execute_result"
    }
   ],
   "source": [
    "#aggregate how many job application each day in each zip code\n",
    "#df_job.groupby([\"Zip\",\"Date\"]).size().to_frame('count_job').reset_index().head(20)\n",
    "df_jobbyDay = df_job.groupby([\"DOBRunDate\",\"Zip\"]).size().to_frame('count_job').reset_index()\n",
    "df_jobbyDay['Date'] = df_jobbyDay['DOBRunDate'].str[:10] #make a new colum for formulated date\n",
    "df_jobbyDay.head()"
   ]
  },
  {
   "cell_type": "code",
   "execution_count": 7,
   "metadata": {},
   "outputs": [
    {
     "data": {
      "text/html": [
       "<div>\n",
       "<style scoped>\n",
       "    .dataframe tbody tr th:only-of-type {\n",
       "        vertical-align: middle;\n",
       "    }\n",
       "\n",
       "    .dataframe tbody tr th {\n",
       "        vertical-align: top;\n",
       "    }\n",
       "\n",
       "    .dataframe thead th {\n",
       "        text-align: right;\n",
       "    }\n",
       "</style>\n",
       "<table border=\"1\" class=\"dataframe\">\n",
       "  <thead>\n",
       "    <tr style=\"text-align: right;\">\n",
       "      <th></th>\n",
       "      <th>Zip</th>\n",
       "      <th>Date_Entered</th>\n",
       "      <th>count_complaint</th>\n",
       "      <th>Date</th>\n",
       "    </tr>\n",
       "  </thead>\n",
       "  <tbody>\n",
       "    <tr>\n",
       "      <th>0</th>\n",
       "      <td>10001</td>\n",
       "      <td>04/01/2020</td>\n",
       "      <td>1</td>\n",
       "      <td>2020-04-01</td>\n",
       "    </tr>\n",
       "    <tr>\n",
       "      <th>1</th>\n",
       "      <td>10001</td>\n",
       "      <td>04/02/2020</td>\n",
       "      <td>6</td>\n",
       "      <td>2020-04-02</td>\n",
       "    </tr>\n",
       "    <tr>\n",
       "      <th>2</th>\n",
       "      <td>10001</td>\n",
       "      <td>04/03/2020</td>\n",
       "      <td>16</td>\n",
       "      <td>2020-04-03</td>\n",
       "    </tr>\n",
       "    <tr>\n",
       "      <th>3</th>\n",
       "      <td>10001</td>\n",
       "      <td>04/06/2020</td>\n",
       "      <td>18</td>\n",
       "      <td>2020-04-06</td>\n",
       "    </tr>\n",
       "    <tr>\n",
       "      <th>4</th>\n",
       "      <td>10001</td>\n",
       "      <td>04/07/2020</td>\n",
       "      <td>10</td>\n",
       "      <td>2020-04-07</td>\n",
       "    </tr>\n",
       "  </tbody>\n",
       "</table>\n",
       "</div>"
      ],
      "text/plain": [
       "         Zip Date_Entered  count_complaint        Date\n",
       "0  10001       04/01/2020                1  2020-04-01\n",
       "1  10001       04/02/2020                6  2020-04-02\n",
       "2  10001       04/03/2020               16  2020-04-03\n",
       "3  10001       04/06/2020               18  2020-04-06\n",
       "4  10001       04/07/2020               10  2020-04-07"
      ]
     },
     "execution_count": 7,
     "metadata": {},
     "output_type": "execute_result"
    }
   ],
   "source": [
    "#aggregate how many complaints each day in each zip code\n",
    "#df_complaint.groupby([\"Date\",\"Zip\"]).size().to_frame('count_complaint').reset_index().head(20)\n",
    "df_complaintbyDay = df_complaint.groupby([\"Zip\",\"Date_Entered\"]).size().to_frame('count_complaint').reset_index()\n",
    "\n",
    "#print(type(df_complaintbyDay['Date_Entered'][0])) \n",
    "df_complaintbyDay['Date']=df_complaintbyDay['Date_Entered'].apply(lambda x: x[6:] + '-' + x[0:2] + '-' + x[3:5] ) #convert the data into the same format as job file\n",
    "df_complaintbyDay.head()"
   ]
  },
  {
   "cell_type": "code",
   "execution_count": 8,
   "metadata": {},
   "outputs": [
    {
     "data": {
      "text/html": [
       "<div>\n",
       "<style scoped>\n",
       "    .dataframe tbody tr th:only-of-type {\n",
       "        vertical-align: middle;\n",
       "    }\n",
       "\n",
       "    .dataframe tbody tr th {\n",
       "        vertical-align: top;\n",
       "    }\n",
       "\n",
       "    .dataframe thead th {\n",
       "        text-align: right;\n",
       "    }\n",
       "</style>\n",
       "<table border=\"1\" class=\"dataframe\">\n",
       "  <thead>\n",
       "    <tr style=\"text-align: right;\">\n",
       "      <th></th>\n",
       "      <th>DOBRunDate</th>\n",
       "      <th>Zip</th>\n",
       "      <th>count_job</th>\n",
       "      <th>Date</th>\n",
       "      <th>Date_Entered</th>\n",
       "      <th>count_complaint</th>\n",
       "    </tr>\n",
       "  </thead>\n",
       "  <tbody>\n",
       "    <tr>\n",
       "      <th>0</th>\n",
       "      <td>2020-04-01T00:00:00.000</td>\n",
       "      <td>10001</td>\n",
       "      <td>4</td>\n",
       "      <td>2020-04-01</td>\n",
       "      <td>04/01/2020</td>\n",
       "      <td>1</td>\n",
       "    </tr>\n",
       "    <tr>\n",
       "      <th>1</th>\n",
       "      <td>2020-04-01T00:00:00.000</td>\n",
       "      <td>10003</td>\n",
       "      <td>3</td>\n",
       "      <td>2020-04-01</td>\n",
       "      <td>04/01/2020</td>\n",
       "      <td>5</td>\n",
       "    </tr>\n",
       "    <tr>\n",
       "      <th>2</th>\n",
       "      <td>2020-04-01T00:00:00.000</td>\n",
       "      <td>10007</td>\n",
       "      <td>1</td>\n",
       "      <td>2020-04-01</td>\n",
       "      <td>04/01/2020</td>\n",
       "      <td>5</td>\n",
       "    </tr>\n",
       "    <tr>\n",
       "      <th>3</th>\n",
       "      <td>2020-04-01T00:00:00.000</td>\n",
       "      <td>10009</td>\n",
       "      <td>3</td>\n",
       "      <td>2020-04-01</td>\n",
       "      <td>04/01/2020</td>\n",
       "      <td>9</td>\n",
       "    </tr>\n",
       "    <tr>\n",
       "      <th>4</th>\n",
       "      <td>2020-04-01T00:00:00.000</td>\n",
       "      <td>10011</td>\n",
       "      <td>1</td>\n",
       "      <td>2020-04-01</td>\n",
       "      <td>04/01/2020</td>\n",
       "      <td>3</td>\n",
       "    </tr>\n",
       "  </tbody>\n",
       "</table>\n",
       "</div>"
      ],
      "text/plain": [
       "                DOBRunDate    Zip  count_job        Date Date_Entered  \\\n",
       "0  2020-04-01T00:00:00.000  10001          4  2020-04-01   04/01/2020   \n",
       "1  2020-04-01T00:00:00.000  10003          3  2020-04-01   04/01/2020   \n",
       "2  2020-04-01T00:00:00.000  10007          1  2020-04-01   04/01/2020   \n",
       "3  2020-04-01T00:00:00.000  10009          3  2020-04-01   04/01/2020   \n",
       "4  2020-04-01T00:00:00.000  10011          1  2020-04-01   04/01/2020   \n",
       "\n",
       "   count_complaint  \n",
       "0                1  \n",
       "1                5  \n",
       "2                5  \n",
       "3                9  \n",
       "4                3  "
      ]
     },
     "execution_count": 8,
     "metadata": {},
     "output_type": "execute_result"
    }
   ],
   "source": [
    "#merge two data set\n",
    "df_jobbyDay['Zip']=df_jobbyDay['Zip'].astype(int)\n",
    "df_complaintbyDay['Zip']=df_complaintbyDay['Zip'].astype(int)\n",
    "mergejob_complaint = pd.merge(df_jobbyDay, df_complaintbyDay,on=[\"Zip\",\"Date\"],how='inner')\n",
    "mergejob_complaint.to_csv('mergejob_complaint.csv')\n",
    "\n",
    "mergejob_complaint.head()"
   ]
  },
  {
   "cell_type": "code",
   "execution_count": null,
   "metadata": {},
   "outputs": [],
   "source": []
  },
  {
   "cell_type": "code",
   "execution_count": 9,
   "metadata": {},
   "outputs": [],
   "source": [
    "#graph"
   ]
  },
  {
   "cell_type": "code",
   "execution_count": 10,
   "metadata": {},
   "outputs": [
    {
     "data": {
      "text/plain": [
       "<seaborn.axisgrid.FacetGrid at 0x1a1fcb4550>"
      ]
     },
     "execution_count": 10,
     "metadata": {},
     "output_type": "execute_result"
    },
    {
     "data": {
      "image/png": "[encoded data removed]",
      "text/plain": [
       "<Figure size 360x360 with 1 Axes>"
      ]
     },
     "metadata": {
      "needs_background": "light"
     },
     "output_type": "display_data"
    }
   ],
   "source": [
    "sns.relplot(x='count_job', y=\"count_complaint\", data=mergejob_complaint)\n"
   ]
  },
  {
   "cell_type": "code",
   "execution_count": 31,
   "metadata": {},
   "outputs": [
    {
     "data": {
      "text/plain": [
       "<seaborn.axisgrid.FacetGrid at 0x1a2510c550>"
      ]
     },
     "execution_count": 31,
     "metadata": {},
     "output_type": "execute_result"
    },
    {
     "data": {
      "image/png": "[encoded data removed]",
      "text/plain": [
       "<Figure size 360x360 with 1 Axes>"
      ]
     },
     "metadata": {
      "needs_background": "light"
     },
     "output_type": "display_data"
    }
   ],
   "source": [
    "mergejob_complaint=mergejob_complaint.groupby(['Zip']).agg({'count_job':'mean', 'count_complaint':'mean'}) #calculate the mean of each zip area \n",
    "mergejob_complaint=mergejob_complaint.loc[mergejob_complaint['count_job'].astype(int)< 50] #remove outeliner for job\n",
    "mergejob_complaint=mergejob_complaint.loc[mergejob_complaint['count_complaint'].astype(int)< 40] #remove outeliner for job\n",
    "sns.lmplot(x='count_job', y=\"count_complaint\", data=mergejob_complaint)"
   ]
  },
  {
   "cell_type": "code",
   "execution_count": null,
   "metadata": {},
   "outputs": [],
   "source": []
  },
  {
   "cell_type": "code",
   "execution_count": null,
   "metadata": {},
   "outputs": [],
   "source": []
  },
  {
   "cell_type": "code",
   "execution_count": null,
   "metadata": {},
   "outputs": [],
   "source": []
  }
 ],
 "metadata": {
  "kernelspec": {
   "display_name": "Python 3",
   "language": "python",
   "name": "python3"
  },
  "language_info": {
   "codemirror_mode": {
    "name": "ipython",
    "version": 3
   },
   "file_extension": ".py",
   "mimetype": "text/x-python",
   "name": "python",
   "nbconvert_exporter": "python",
   "pygments_lexer": "ipython3",
   "version": "3.7.3"
  }
 },
 "nbformat": 4,
 "nbformat_minor": 2
}
